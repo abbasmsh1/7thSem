{
 "cells": [
  {
   "cell_type": "markdown",
   "metadata": {},
   "source": [
    "Task 1"
   ]
  },
  {
   "cell_type": "code",
   "execution_count": 41,
   "metadata": {},
   "outputs": [
    {
     "name": "stdout",
     "output_type": "stream",
     "text": [
      "Epoch [1000/10000], Loss: 12821618766118912.0000\n",
      "Epoch [2000/10000], Loss: 12821618766118912.0000\n",
      "Epoch [3000/10000], Loss: 12821618766118912.0000\n",
      "Epoch [4000/10000], Loss: 12821618766118912.0000\n",
      "Epoch [5000/10000], Loss: 12821618766118912.0000\n",
      "Epoch [6000/10000], Loss: 12821618766118912.0000\n",
      "Epoch [7000/10000], Loss: 12821618766118912.0000\n",
      "Epoch [8000/10000], Loss: 12821618766118912.0000\n",
      "Epoch [9000/10000], Loss: 12821618766118912.0000\n",
      "Epoch [10000/10000], Loss: 12821618766118912.0000\n"
     ]
    }
   ],
   "source": [
    "import torch\n",
    "import torch.nn as nn\n",
    "import torch.optim as optim\n",
    "import numpy as np\n",
    "\n",
    "# Define the ground truth\n",
    "def true_relationship(x):\n",
    "    return x**3 + x**2 - x - 1\n",
    "\n",
    "# Generate Data\n",
    "np.random.seed(42)\n",
    "x_train = np.arange(1, 1000).reshape(-1, 1)  # Random input data\n",
    "y_train = true_relationship(x_train) + 0.1 * np.random.randn(999, 1)  # Adding a small amount of noise\n",
    "\n",
    "# Normalize the data\n",
    "x_train_mean = x_train.mean()\n",
    "x_train_std = x_train.std()\n",
    "x_train_normalized = (x_train - x_train_mean) / x_train_std\n",
    "\n",
    "# Convert data to PyTorch tensors and move them to GPU if available\n",
    "x_train_tensor = torch.tensor(x_train_normalized, dtype=torch.float32).to('cuda')\n",
    "y_train_tensor = torch.tensor(y_train, dtype=torch.float32).to('cuda')\n",
    "\n",
    "# Define a simple neural network\n",
    "class Model(nn.Module):\n",
    "    def __init__(self, input_size):\n",
    "        super(Model, self).__init__()\n",
    "        self.linear = nn.Linear(input_size, 1)\n",
    "\n",
    "    def forward(self, x):\n",
    "        return self.linear(x)\n",
    "\n",
    "# Initialize the model and move it to GPU\n",
    "model = Model(1).to('cuda')\n",
    "\n",
    "# Define loss function (Mean Squared Error) and optimizer (e.g., SGD)\n",
    "criterion = nn.MSELoss()\n",
    "optimizer = optim.SGD(model.parameters(), lr=10e-3)\n",
    "\n",
    "# Training loop\n",
    "num_epochs = 10000\n",
    "for epoch in range(num_epochs):\n",
    "    # Forward pass\n",
    "    outputs = model(x_train_tensor)\n",
    "    loss = criterion(outputs, y_train_tensor)\n",
    "\n",
    "    # Backward pass and optimization\n",
    "    optimizer.zero_grad()\n",
    "    loss.backward()\n",
    "    optimizer.step()\n",
    "\n",
    "    if (epoch + 1) % 1000 == 0:\n",
    "        print(f'Epoch [{epoch + 1}/{num_epochs}], Loss: {loss.item():.4f}')\n",
    "\n",
    "# Save model parameters and gradients\n",
    "torch.save(model.state_dict(), 'model_weights.pth')\n",
    "\n",
    "# You can also save gradients if needed\n",
    "gradients = {}\n",
    "for name, param in model.named_parameters():\n",
    "    if param.grad is not None:\n",
    "        gradients[name] = param.grad.cpu().numpy()\n",
    "\n",
    "np.save('model_gradients.npy', gradients)\n"
   ]
  },
  {
   "cell_type": "markdown",
   "metadata": {},
   "source": [
    "Task 2"
   ]
  },
  {
   "cell_type": "code",
   "execution_count": 42,
   "metadata": {},
   "outputs": [
    {
     "name": "stdout",
     "output_type": "stream",
     "text": [
      "predicted value is tensor([2.6225e+10], device='cuda:0', grad_fn=<AddBackward0>), ground truth is 1009899\n"
     ]
    }
   ],
   "source": [
    "def test(x):\n",
    "        # Generating test tensor\n",
    "        test_tensor = torch.tensor([x], dtype=torch.float32).to('cuda')\n",
    "\n",
    "        # Predicting using the model\n",
    "        pred = model(test_tensor)\n",
    "        return pred\n",
    "\n",
    "print(f\"predicted value is {test(100)}, ground truth is {true_relationship(100)}\")"
   ]
  },
  {
   "cell_type": "markdown",
   "metadata": {},
   "source": [
    "Task 3"
   ]
  },
  {
   "cell_type": "code",
   "execution_count": 48,
   "metadata": {},
   "outputs": [
    {
     "name": "stdout",
     "output_type": "stream",
     "text": [
      "Epoch [100/1000], Loss: 1429135730495455232.0000\n",
      "Epoch [200/1000], Loss: 1429135730495455232.0000\n",
      "Epoch [300/1000], Loss: 1429135730495455232.0000\n",
      "Epoch [400/1000], Loss: 1429135730495455232.0000\n",
      "Epoch [500/1000], Loss: 1429135730495455232.0000\n",
      "Epoch [600/1000], Loss: 1429135730495455232.0000\n",
      "Epoch [700/1000], Loss: 1429135730495455232.0000\n",
      "Epoch [800/1000], Loss: 1429135730495455232.0000\n",
      "Epoch [900/1000], Loss: 1429135730495455232.0000\n",
      "Epoch [1000/1000], Loss: 1429135730495455232.0000\n"
     ]
    }
   ],
   "source": [
    "class Model(nn.Module):\n",
    "    def __init__(self, input_size):\n",
    "        super(Model, self).__init__()\n",
    "        self.linear = nn.Linear(input_size, 1)\n",
    "\n",
    "    def forward(self, x):\n",
    "        return self.linear(x)\n",
    "\n",
    "# Initialize the model and move it to GPU\n",
    "model = Model(1).to('cuda:0')\n",
    "\n",
    "# Define loss function\n",
    "criterion = nn.MSELoss()\n",
    "optimizer = optim.AdamW(model.parameters(), lr=10e-5)\n",
    "\n",
    "# Training loop\n",
    "num_epochs = 1000\n",
    "for epoch in range(num_epochs):\n",
    "    # Forward pass\n",
    "    outputs = model(x_train_tensor)\n",
    "    loss = criterion(outputs, y_train_tensor)\n",
    "\n",
    "    # Backward pass and optimization\n",
    "    optimizer.zero_grad()\n",
    "    loss.backward()\n",
    "    optimizer.step()\n",
    "\n",
    "    if (epoch + 1) % 100 == 0:\n",
    "        print(f'Epoch [{epoch + 1}/{num_epochs}], Loss: {loss.item():.4f}')\n",
    "\n",
    "\n"
   ]
  },
  {
   "cell_type": "code",
   "execution_count": 49,
   "metadata": {},
   "outputs": [
    {
     "name": "stdout",
     "output_type": "stream",
     "text": [
      "predicted value is tensor([-73.4697], device='cuda:0', grad_fn=<AddBackward0>), ground truth is 1009899\n"
     ]
    }
   ],
   "source": [
    "print(f\"predicted value is {test(100)}, ground truth is {true_relationship(100)}\")"
   ]
  },
  {
   "cell_type": "code",
   "execution_count": 56,
   "metadata": {},
   "outputs": [
    {
     "name": "stdout",
     "output_type": "stream",
     "text": [
      "Epoch [1000/10000], Loss: nan\n",
      "Epoch [2000/10000], Loss: nan\n",
      "Epoch [3000/10000], Loss: nan\n",
      "Epoch [4000/10000], Loss: nan\n",
      "Epoch [5000/10000], Loss: nan\n",
      "Epoch [6000/10000], Loss: nan\n",
      "Epoch [7000/10000], Loss: nan\n",
      "Epoch [8000/10000], Loss: nan\n",
      "Epoch [9000/10000], Loss: nan\n",
      "Epoch [10000/10000], Loss: nan\n"
     ]
    }
   ],
   "source": [
    "import torch\n",
    "import torch.nn as nn\n",
    "import torch.optim as optim\n",
    "import numpy as np\n",
    "\n",
    "# Define the ground truth\n",
    "def true_relationship(x):\n",
    "    return x**3 + x**2 - x - 1\n",
    "\n",
    "# Generate Data\n",
    "np.random.seed(42)\n",
    "x_train = np.arange(1, 10000).reshape(-1, 1)  # Random input data\n",
    "y_train = true_relationship(x_train) + 0.2 * np.random.randn(9999, 1)  # Adding a small amount of noise\n",
    "\n",
    "# Normalize the data\n",
    "x_train_mean = x_train.mean()\n",
    "x_train_std = x_train.std()\n",
    "x_train_normalized = (x_train - x_train_mean) / x_train_std\n",
    "\n",
    "# Convert data to PyTorch tensors and move them to GPU if available\n",
    "x_train_tensor = torch.tensor(x_train_normalized, dtype=torch.float32).to('cuda')\n",
    "y_train_tensor = torch.tensor(y_train, dtype=torch.float32).to('cuda')\n",
    "\n",
    "# Define a simple neural network\n",
    "class Model(nn.Module):\n",
    "    def __init__(self, input_size):\n",
    "        super(Model, self).__init__()\n",
    "        self.linear = nn.Linear(input_size, 256)\n",
    "        self.linear2 = nn.Linear(256, 1024)\n",
    "        self.linear3 = nn.Linear(1024, 256)\n",
    "        self.linear4 = nn.Linear(256, 64)\n",
    "        self.linear5 = nn.Linear(64, 16)\n",
    "        self.linear6 = nn.Linear(16, 1)\n",
    "        \n",
    "    def forward(self, x):\n",
    "        x = self.linear(x)\n",
    "        x = nn.ReLU()(x)  # Apply ReLU activation function\n",
    "        x = self.linear2(x)\n",
    "        x = nn.ReLU()(x)\n",
    "        x = self.linear3(x)\n",
    "        x = nn.ReLU()(x)\n",
    "        x = self.linear4(x)\n",
    "        x = nn.ReLU()(x)\n",
    "        x = self.linear5(x)\n",
    "        x = nn.ReLU()(x)\n",
    "        x = self.linear6(x)\n",
    "        return x\n",
    "\n",
    "# Initialize the model and move it to GPU\n",
    "model = Model(1).to('cuda:0')\n",
    "\n",
    "# Define loss function (Mean Squared Error) and optimizer (e.g., Adam)\n",
    "criterion = nn.MSELoss()\n",
    "optimizer = optim.SGD(model.parameters(), lr=10e-12)  # Use a reasonable learning rate\n",
    "\n",
    "# Training loop\n",
    "num_epochs = 10000\n",
    "for epoch in range(num_epochs):\n",
    "    # Forward pass\n",
    "    outputs = model(x_train_tensor)\n",
    "    loss = criterion(outputs, y_train_tensor)\n",
    "\n",
    "    # Backward pass and optimization\n",
    "    optimizer.zero_grad()\n",
    "    loss.backward()\n",
    "    optimizer.step()\n",
    "\n",
    "    if (epoch + 1) % 1000 == 0:\n",
    "        print(f'Epoch [{epoch + 1}/{num_epochs}], Loss: {loss.item():.4f}')\n"
   ]
  },
  {
   "cell_type": "code",
   "execution_count": 57,
   "metadata": {},
   "outputs": [
    {
     "name": "stdout",
     "output_type": "stream",
     "text": [
      "predicted value is tensor([nan], device='cuda:0', grad_fn=<AddBackward0>), ground truth is 1009899\n"
     ]
    }
   ],
   "source": [
    "print(f\"predicted value is {test(100)}, ground truth is {true_relationship(100)}\")"
   ]
  },
  {
   "cell_type": "markdown",
   "metadata": {},
   "source": [
    "Task 4"
   ]
  },
  {
   "cell_type": "code",
   "execution_count": 23,
   "metadata": {},
   "outputs": [
    {
     "name": "stdout",
     "output_type": "stream",
     "text": [
      "Downloading http://yann.lecun.com/exdb/mnist/train-images-idx3-ubyte.gz\n",
      "Downloading http://yann.lecun.com/exdb/mnist/train-images-idx3-ubyte.gz to ./data\\MNIST\\raw\\train-images-idx3-ubyte.gz\n"
     ]
    },
    {
     "name": "stderr",
     "output_type": "stream",
     "text": [
      "100.0%\n"
     ]
    },
    {
     "name": "stdout",
     "output_type": "stream",
     "text": [
      "Extracting ./data\\MNIST\\raw\\train-images-idx3-ubyte.gz to ./data\\MNIST\\raw\n",
      "\n",
      "Downloading http://yann.lecun.com/exdb/mnist/train-labels-idx1-ubyte.gz\n",
      "Downloading http://yann.lecun.com/exdb/mnist/train-labels-idx1-ubyte.gz to ./data\\MNIST\\raw\\train-labels-idx1-ubyte.gz\n"
     ]
    },
    {
     "name": "stderr",
     "output_type": "stream",
     "text": [
      "100.0%\n"
     ]
    },
    {
     "name": "stdout",
     "output_type": "stream",
     "text": [
      "Extracting ./data\\MNIST\\raw\\train-labels-idx1-ubyte.gz to ./data\\MNIST\\raw\n",
      "\n",
      "Downloading http://yann.lecun.com/exdb/mnist/t10k-images-idx3-ubyte.gz\n",
      "Downloading http://yann.lecun.com/exdb/mnist/t10k-images-idx3-ubyte.gz to ./data\\MNIST\\raw\\t10k-images-idx3-ubyte.gz\n"
     ]
    },
    {
     "name": "stderr",
     "output_type": "stream",
     "text": [
      "100.0%\n"
     ]
    },
    {
     "name": "stdout",
     "output_type": "stream",
     "text": [
      "Extracting ./data\\MNIST\\raw\\t10k-images-idx3-ubyte.gz to ./data\\MNIST\\raw\n",
      "\n",
      "Downloading http://yann.lecun.com/exdb/mnist/t10k-labels-idx1-ubyte.gz\n"
     ]
    },
    {
     "name": "stderr",
     "output_type": "stream",
     "text": [
      "100.0%"
     ]
    },
    {
     "name": "stdout",
     "output_type": "stream",
     "text": [
      "Downloading http://yann.lecun.com/exdb/mnist/t10k-labels-idx1-ubyte.gz to ./data\\MNIST\\raw\\t10k-labels-idx1-ubyte.gz\n",
      "Extracting ./data\\MNIST\\raw\\t10k-labels-idx1-ubyte.gz to ./data\\MNIST\\raw\n",
      "\n"
     ]
    },
    {
     "name": "stderr",
     "output_type": "stream",
     "text": [
      "\n"
     ]
    },
    {
     "name": "stdout",
     "output_type": "stream",
     "text": [
      "Epoch [1, Batch 100] Loss: 1.0039\n",
      "Epoch [1, Batch 200] Loss: 0.4359\n",
      "Epoch [1, Batch 300] Loss: 0.3688\n",
      "Epoch [1, Batch 400] Loss: 0.3421\n",
      "Epoch [1, Batch 500] Loss: 0.3151\n",
      "Epoch [1, Batch 600] Loss: 0.2861\n",
      "Epoch [1, Batch 700] Loss: 0.2799\n",
      "Epoch [1, Batch 800] Loss: 0.2719\n",
      "Epoch [1, Batch 900] Loss: 0.2448\n",
      "Epoch [2, Batch 100] Loss: 0.2230\n",
      "Epoch [2, Batch 200] Loss: 0.2243\n",
      "Epoch [2, Batch 300] Loss: 0.1948\n",
      "Epoch [2, Batch 400] Loss: 0.1924\n",
      "Epoch [2, Batch 500] Loss: 0.1743\n",
      "Epoch [2, Batch 600] Loss: 0.1839\n",
      "Epoch [2, Batch 700] Loss: 0.1827\n",
      "Epoch [2, Batch 800] Loss: 0.1747\n",
      "Epoch [2, Batch 900] Loss: 0.1559\n",
      "Epoch [3, Batch 100] Loss: 0.1370\n",
      "Epoch [3, Batch 200] Loss: 0.1527\n",
      "Epoch [3, Batch 300] Loss: 0.1507\n",
      "Epoch [3, Batch 400] Loss: 0.1373\n",
      "Epoch [3, Batch 500] Loss: 0.1261\n",
      "Epoch [3, Batch 600] Loss: 0.1625\n",
      "Epoch [3, Batch 700] Loss: 0.1128\n",
      "Epoch [3, Batch 800] Loss: 0.1267\n",
      "Epoch [3, Batch 900] Loss: 0.1367\n",
      "Epoch [4, Batch 100] Loss: 0.1237\n",
      "Epoch [4, Batch 200] Loss: 0.1070\n",
      "Epoch [4, Batch 300] Loss: 0.1146\n",
      "Epoch [4, Batch 400] Loss: 0.1090\n",
      "Epoch [4, Batch 500] Loss: 0.1080\n",
      "Epoch [4, Batch 600] Loss: 0.1072\n",
      "Epoch [4, Batch 700] Loss: 0.1041\n",
      "Epoch [4, Batch 800] Loss: 0.1096\n",
      "Epoch [4, Batch 900] Loss: 0.1062\n",
      "Epoch [5, Batch 100] Loss: 0.1022\n",
      "Epoch [5, Batch 200] Loss: 0.1024\n",
      "Epoch [5, Batch 300] Loss: 0.0924\n",
      "Epoch [5, Batch 400] Loss: 0.0951\n",
      "Epoch [5, Batch 500] Loss: 0.0846\n",
      "Epoch [5, Batch 600] Loss: 0.0973\n",
      "Epoch [5, Batch 700] Loss: 0.0932\n",
      "Epoch [5, Batch 800] Loss: 0.1021\n",
      "Epoch [5, Batch 900] Loss: 0.0939\n",
      "Epoch [6, Batch 100] Loss: 0.0768\n",
      "Epoch [6, Batch 200] Loss: 0.0689\n",
      "Epoch [6, Batch 300] Loss: 0.0816\n",
      "Epoch [6, Batch 400] Loss: 0.0960\n",
      "Epoch [6, Batch 500] Loss: 0.0868\n",
      "Epoch [6, Batch 600] Loss: 0.0817\n",
      "Epoch [6, Batch 700] Loss: 0.0895\n",
      "Epoch [6, Batch 800] Loss: 0.0779\n",
      "Epoch [6, Batch 900] Loss: 0.0953\n",
      "Epoch [7, Batch 100] Loss: 0.0726\n",
      "Epoch [7, Batch 200] Loss: 0.0715\n",
      "Epoch [7, Batch 300] Loss: 0.0635\n",
      "Epoch [7, Batch 400] Loss: 0.0832\n",
      "Epoch [7, Batch 500] Loss: 0.0787\n",
      "Epoch [7, Batch 600] Loss: 0.0734\n",
      "Epoch [7, Batch 700] Loss: 0.0760\n",
      "Epoch [7, Batch 800] Loss: 0.0767\n",
      "Epoch [7, Batch 900] Loss: 0.0728\n",
      "Epoch [8, Batch 100] Loss: 0.0544\n",
      "Epoch [8, Batch 200] Loss: 0.0723\n",
      "Epoch [8, Batch 300] Loss: 0.0678\n",
      "Epoch [8, Batch 400] Loss: 0.0637\n",
      "Epoch [8, Batch 500] Loss: 0.0800\n",
      "Epoch [8, Batch 600] Loss: 0.0696\n",
      "Epoch [8, Batch 700] Loss: 0.0802\n",
      "Epoch [8, Batch 800] Loss: 0.0682\n",
      "Epoch [8, Batch 900] Loss: 0.0647\n",
      "Epoch [9, Batch 100] Loss: 0.0476\n",
      "Epoch [9, Batch 200] Loss: 0.0607\n",
      "Epoch [9, Batch 300] Loss: 0.0623\n",
      "Epoch [9, Batch 400] Loss: 0.0589\n",
      "Epoch [9, Batch 500] Loss: 0.0564\n",
      "Epoch [9, Batch 600] Loss: 0.0642\n",
      "Epoch [9, Batch 700] Loss: 0.0671\n",
      "Epoch [9, Batch 800] Loss: 0.0665\n",
      "Epoch [9, Batch 900] Loss: 0.0673\n",
      "Epoch [10, Batch 100] Loss: 0.0594\n",
      "Epoch [10, Batch 200] Loss: 0.0457\n",
      "Epoch [10, Batch 300] Loss: 0.0550\n",
      "Epoch [10, Batch 400] Loss: 0.0505\n",
      "Epoch [10, Batch 500] Loss: 0.0583\n",
      "Epoch [10, Batch 600] Loss: 0.0536\n",
      "Epoch [10, Batch 700] Loss: 0.0697\n",
      "Epoch [10, Batch 800] Loss: 0.0567\n",
      "Epoch [10, Batch 900] Loss: 0.0591\n",
      "Finished Training\n",
      "Accuracy on the test set: 97.21%\n"
     ]
    }
   ],
   "source": [
    "import torch\n",
    "import torch.nn as nn\n",
    "import torch.optim as optim\n",
    "import torchvision\n",
    "import torchvision.transforms as transforms\n",
    "from torchvision.datasets import MNIST\n",
    "from torch.utils.data import DataLoader\n",
    "\n",
    "# Define a custom neural network\n",
    "class Model(nn.Module):\n",
    "    def __init__(self):\n",
    "        super(Model, self).__init__()\n",
    "        self.fc1 = nn.Linear(28*28, 128)\n",
    "        self.relu = nn.ReLU()\n",
    "        self.fc2 = nn.Linear(128, 64)\n",
    "        self.fc3 = nn.Linear(64, 10)  # 10 output classes for digits\n",
    "\n",
    "    def forward(self, x):\n",
    "        x = x.view(x.size(0), -1) \n",
    "        x = self.relu(self.fc1(x))\n",
    "        x = self.relu(self.fc2(x))\n",
    "        x = self.fc3(x)\n",
    "        return x\n",
    "\n",
    "# Data preprocessing and augmentation\n",
    "transform = transforms.Compose([transforms.ToTensor(), transforms.Normalize((0.5,), (0.5,))])\n",
    "\n",
    "# Download and load the MNIST dataset\n",
    "train_dataset = MNIST(root='./data', train=True, transform=transform, download=True)\n",
    "test_dataset = MNIST(root='./data', train=False, transform=transform)\n",
    "\n",
    "# Create data loaders\n",
    "train_loader = DataLoader(train_dataset, batch_size=64, shuffle=True, num_workers=4)\n",
    "test_loader = DataLoader(test_dataset, batch_size=64, shuffle=False, num_workers=4)\n",
    "\n",
    "# Initialize the model\n",
    "model = Model()\n",
    "\n",
    "# Move the model to GPU if available\n",
    "device = torch.device(\"cuda:0\" if torch.cuda.is_available() else \"cpu\")\n",
    "model.to(device)\n",
    "\n",
    "# Define loss function and optimizer\n",
    "criterion = nn.CrossEntropyLoss()\n",
    "optimizer = optim.Adam(model.parameters(), lr=0.001)\n",
    "\n",
    "# Training loop\n",
    "num_epochs = 10\n",
    "for epoch in range(num_epochs):\n",
    "    running_loss = 0.0\n",
    "    for i, data in enumerate(train_loader, 0):\n",
    "        inputs, labels = data\n",
    "        inputs, labels = inputs.to(device), labels.to(device)\n",
    "\n",
    "        optimizer.zero_grad()\n",
    "\n",
    "        outputs = model(inputs)\n",
    "        loss = criterion(outputs, labels)\n",
    "        loss.backward()\n",
    "        optimizer.step()\n",
    "\n",
    "        running_loss += loss.item()\n",
    "        if i % 100 == 99:\n",
    "            print(f'Epoch [{epoch + 1}, Batch {i + 1}] Loss: {running_loss / 100:.4f}')\n",
    "            running_loss = 0.0\n",
    "\n",
    "print(\"Finished Training\")\n",
    "\n",
    "# Evaluate the model on the test set\n",
    "correct = 0\n",
    "total = 0\n",
    "with torch.no_grad():\n",
    "    for data in test_loader:\n",
    "        inputs, labels = data\n",
    "        inputs, labels = inputs.to(device), labels.to(device)\n",
    "        outputs = model(inputs)\n",
    "        _, predicted = torch.max(outputs.data, 1)\n",
    "        total += labels.size(0)\n",
    "        correct += (predicted == labels).sum().item()\n",
    "\n",
    "print(f'Accuracy on the test set: {(100 * correct / total):.2f}%')\n"
   ]
  },
  {
   "cell_type": "code",
   "execution_count": null,
   "metadata": {},
   "outputs": [],
   "source": []
  }
 ],
 "metadata": {
  "kernelspec": {
   "display_name": "Uni",
   "language": "python",
   "name": "python3"
  },
  "language_info": {
   "codemirror_mode": {
    "name": "ipython",
    "version": 3
   },
   "file_extension": ".py",
   "mimetype": "text/x-python",
   "name": "python",
   "nbconvert_exporter": "python",
   "pygments_lexer": "ipython3",
   "version": "3.9.17"
  },
  "orig_nbformat": 4
 },
 "nbformat": 4,
 "nbformat_minor": 2
}
