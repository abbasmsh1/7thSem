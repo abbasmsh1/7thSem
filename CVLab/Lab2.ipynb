{
 "cells": [
  {
   "cell_type": "markdown",
   "metadata": {},
   "source": [
    "TASK 1"
   ]
  },
  {
   "cell_type": "code",
   "execution_count": 31,
   "metadata": {},
   "outputs": [],
   "source": [
    "import cv2\n",
    "import numpy as np\n",
    "import warnings\n",
    "warnings.filterwarnings('ignore')\n",
    "\n",
    "# Load the image\n",
    "image = cv2.imread('sample.jpg', cv2.IMREAD_GRAYSCALE)\n",
    "\n",
    "# Perform FFT on the image\n",
    "f_transform = np.fft.fft2(image)\n",
    "fshift = np.fft.fftshift(f_transform)\n",
    "\n",
    "# Display the FFT image\n",
    "cv2.imshow('Filtered Image', np.abs(fshift.astype(np.uint8)))\n",
    "cv2.waitKey(0)\n",
    "cv2.destroyAllWindows()"
   ]
  },
  {
   "cell_type": "code",
   "execution_count": 32,
   "metadata": {},
   "outputs": [],
   "source": [
    "# Create a horizontal line filter\n",
    "rows, cols = image.shape\n",
    "filter = np.zeros_like(image)\n",
    "\n",
    "filter[rows // 2 - 2:rows // 2 + 2, :] = 1\n",
    "\n",
    "# Apply the filter in the frequency domain\n",
    "filtered_image = fshift * filter\n",
    "filtered_image = np.fft.ifftshift(filtered_image)\n",
    "filtered_image = np.fft.ifft2(filtered_image)\n",
    "filtered_image = np.abs(filtered_image)\n",
    "\n",
    "# Display the filtered image\n",
    "cv2.imshow('Horizontal Line Filtered Image', filtered_image.astype(np.uint8))\n",
    "cv2.waitKey(0)\n",
    "cv2.destroyAllWindows()\n"
   ]
  },
  {
   "cell_type": "code",
   "execution_count": 33,
   "metadata": {},
   "outputs": [],
   "source": [
    "# Create a vertical line filter\n",
    "filter = np.zeros_like(image)\n",
    "filter[:, cols // 2 - 2:cols // 2 + 2] = 1\n",
    "\n",
    "# Apply the filter in the frequency domain\n",
    "filtered_image = fshift * filter\n",
    "filtered_image = np.fft.ifftshift(filtered_image)\n",
    "filtered_image = np.fft.ifft2(filtered_image)\n",
    "filtered_image = np.abs(filtered_image)\n",
    "\n",
    "# Display the filtered image\n",
    "cv2.imshow('Vertical Line Filtered Image', filtered_image.astype(np.uint8))\n",
    "cv2.waitKey(0)\n",
    "cv2.destroyAllWindows()\n"
   ]
  },
  {
   "cell_type": "code",
   "execution_count": 34,
   "metadata": {},
   "outputs": [],
   "source": [
    "# Create a diagonal line filter\n",
    "filter = np.zeros_like(image)\n",
    "np.fill_diagonal(filter, 1)\n",
    "\n",
    "# Apply the filter in the frequency domain\n",
    "filtered_image = fshift * filter\n",
    "filtered_image = np.fft.ifftshift(filtered_image)\n",
    "filtered_image = np.fft.ifft2(filtered_image)\n",
    "filtered_image = np.abs(filtered_image)\n",
    "\n",
    "# Display the filtered image\n",
    "cv2.imshow('Diagonal Line Filtered Image', filtered_image.astype(np.uint8))\n",
    "cv2.waitKey(0)\n",
    "cv2.destroyAllWindows()\n"
   ]
  },
  {
   "cell_type": "markdown",
   "metadata": {},
   "source": [
    "TASK 2"
   ]
  },
  {
   "cell_type": "code",
   "execution_count": 22,
   "metadata": {},
   "outputs": [],
   "source": [
    "# Define the filters\n",
    "laplacian_kernel = np.array([[0, -1, 0],\n",
    "                             [-1, 4, -1],\n",
    "                             [0, -1, 0]])\n",
    "\n",
    "prewitt_horizontal_kernel = np.array([[-1, -1, -1],\n",
    "                                      [0, 0, 0],\n",
    "                                      [1, 1, 1]])\n",
    "\n",
    "prewitt_vertical_kernel = np.array([[-1, 0, 1],\n",
    "                                    [-1, 0, 1],\n",
    "                                    [-1, 0, 1]])\n",
    "\n",
    "sobel_horizontal_kernel = np.array([[-1, -2, -1],\n",
    "                                    [0, 0, 0],\n",
    "                                    [1, 2, 1]])\n",
    "\n",
    "sobel_vertical_kernel = np.array([[-1, 0, 1],\n",
    "                                  [-2, 0, 2],\n",
    "                                  [-1, 0, 1]])\n",
    "\n",
    "average_kernel = np.ones((3, 3), np.float32) / 9  # 3x3 average filter"
   ]
  },
  {
   "cell_type": "code",
   "execution_count": 27,
   "metadata": {},
   "outputs": [],
   "source": [
    "filters = [laplacian_kernel,prewitt_horizontal_kernel,prewitt_vertical_kernel,sobel_horizontal_kernel,sobel_vertical_kernel,average_kernel]\n",
    "names = [\"laplacian_kernel\",\"prewitt_horizontal_kernel\",\"prewitt_vertical_kernel\",\"sobel_horizontal_kernel\",\"sobel_vertical_kernel\",\"average_kernel\"]"
   ]
  },
  {
   "cell_type": "code",
   "execution_count": 30,
   "metadata": {},
   "outputs": [
    {
     "name": "stdout",
     "output_type": "stream",
     "text": [
      "laplacian_kernel \n",
      " [[6. 3. 6.]\n",
      " [3. 0. 3.]\n",
      " [6. 3. 6.]] \n",
      "\n",
      "prewitt_horizontal_kernel \n",
      " [[0.         5.19615242 0.        ]\n",
      " [0.         0.         0.        ]\n",
      " [0.         5.19615242 0.        ]] \n",
      "\n",
      "prewitt_vertical_kernel \n",
      " [[0.         0.         0.        ]\n",
      " [5.19615242 0.         5.19615242]\n",
      " [0.         0.         0.        ]] \n",
      "\n",
      "sobel_horizontal_kernel \n",
      " [[1.73205081 6.92820323 1.73205081]\n",
      " [0.         0.         0.        ]\n",
      " [1.73205081 6.92820323 1.73205081]] \n",
      "\n",
      "sobel_vertical_kernel \n",
      " [[1.73205081 0.         1.73205081]\n",
      " [6.92820323 0.         6.92820323]\n",
      " [1.73205081 0.         1.73205081]] \n",
      "\n",
      "average_kernel \n",
      " [[0.         0.         0.        ]\n",
      " [0.         1.00000001 0.        ]\n",
      " [0.         0.         0.        ]] \n",
      "\n"
     ]
    }
   ],
   "source": [
    "# Perform FFT on the filter\n",
    "for name,filter in zip(names,filters):\n",
    "        f_transform = np.fft.fft2(filter)\n",
    "        fshift = np.fft.fftshift(f_transform)\n",
    "        print(name,'\\n',np.abs(fshift),'\\n')"
   ]
  },
  {
   "cell_type": "markdown",
   "metadata": {},
   "source": [
    "TASK 3\n"
   ]
  },
  {
   "cell_type": "code",
   "execution_count": 19,
   "metadata": {},
   "outputs": [],
   "source": [
    "import cv2\n",
    "import numpy as np\n",
    "\n",
    "# Load the image\n",
    "image = cv2.imread('Stacked_img.jpeg', cv2.IMREAD_GRAYSCALE)\n",
    "\n",
    "# Perform FFT on the image\n",
    "f_transform = np.fft.fft2(image)\n",
    "fshift = np.fft.fftshift(f_transform)\n",
    "\n",
    "# Create a Gaussian blur filter in the frequency domain\n",
    "rows, cols = image.shape\n",
    "crow, ccol = rows // 2, cols // 2\n",
    "D = 50  # Blur radius\n",
    "H = np.zeros_like(image, dtype=complex)\n",
    "for i in range(rows):\n",
    "    for j in range(cols):\n",
    "        dist = np.sqrt((i - crow) ** 2 + (j - ccol) ** 2)\n",
    "        H[i, j] = np.exp(-dist**2 / (2 * D**2))\n",
    "\n",
    "# Apply the filter in the frequency domain\n",
    "filtered_image = fshift * H\n",
    "filtered_image = np.fft.ifftshift(filtered_image)\n",
    "filtered_image = np.fft.ifft2(filtered_image)\n",
    "filtered_image = np.abs(filtered_image)\n",
    "\n",
    "# Display the filtered image\n",
    "cv2.imshow('Filtered Image', filtered_image.astype(np.uint8))\n",
    "cv2.waitKey(0)\n",
    "cv2.destroyAllWindows()\n"
   ]
  },
  {
   "cell_type": "markdown",
   "metadata": {},
   "source": [
    "TASK 4"
   ]
  },
  {
   "cell_type": "code",
   "execution_count": 21,
   "metadata": {},
   "outputs": [],
   "source": [
    "import cv2\n",
    "import numpy as np\n",
    "import matplotlib.pyplot as plt\n",
    "\n",
    "# Load the image\n",
    "image = cv2.imread('Stacked_img.jpeg', cv2.IMREAD_GRAYSCALE)\n",
    "\n",
    "# Perform FFT on the image\n",
    "f_transform = np.fft.fft2(image)\n",
    "fshift = np.fft.fftshift(f_transform)\n",
    "\n",
    "# Create a filter to enhance edges (e.g., high-pass filter)\n",
    "rows, cols = image.shape\n",
    "crow, ccol = rows // 2, cols // 2\n",
    "\n",
    "# Define the size of the high-pass filter\n",
    "D = 10\n",
    "\n",
    "# Create a high-pass filter in the frequency domain\n",
    "H = np.zeros_like(image, dtype=complex)\n",
    "for i in range(rows):\n",
    "    for j in range(cols):\n",
    "        dist = np.sqrt((i - crow) ** 2 + (j - ccol) ** 2)\n",
    "        if dist > D:\n",
    "            H[i, j] = 1\n",
    "\n",
    "# Apply the filter in the frequency domain\n",
    "filtered_image = fshift * H\n",
    "filtered_image = np.fft.ifftshift(filtered_image)\n",
    "filtered_image = np.fft.ifft2(filtered_image)\n",
    "filtered_image = np.abs(filtered_image)\n",
    "\n",
    "# Display the filtered image\n",
    "cv2.imshow('Filtered Image', filtered_image.astype(np.uint8))\n",
    "cv2.waitKey(0)\n",
    "cv2.destroyAllWindows()"
   ]
  },
  {
   "cell_type": "code",
   "execution_count": null,
   "metadata": {},
   "outputs": [],
   "source": []
  }
 ],
 "metadata": {
  "kernelspec": {
   "display_name": "uni",
   "language": "python",
   "name": "python3"
  },
  "language_info": {
   "codemirror_mode": {
    "name": "ipython",
    "version": 3
   },
   "file_extension": ".py",
   "mimetype": "text/x-python",
   "name": "python",
   "nbconvert_exporter": "python",
   "pygments_lexer": "ipython3",
   "version": "3.9.17"
  },
  "orig_nbformat": 4
 },
 "nbformat": 4,
 "nbformat_minor": 2
}
