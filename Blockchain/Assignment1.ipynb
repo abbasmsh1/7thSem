{
 "cells": [
  {
   "cell_type": "code",
   "execution_count": 8,
   "metadata": {},
   "outputs": [],
   "source": [
    "from hashlib import sha256"
   ]
  },
  {
   "cell_type": "code",
   "execution_count": 34,
   "metadata": {},
   "outputs": [],
   "source": [
    "sequence = \"12:48 am\\nAlice 10 dollars Bob\\nBob 5 dollars Joseph\\nJoseph 2 dollars Abbas Mustafa \""
   ]
  },
  {
   "cell_type": "code",
   "execution_count": 35,
   "metadata": {},
   "outputs": [],
   "source": [
    "test = sequence"
   ]
  },
  {
   "cell_type": "code",
   "execution_count": 36,
   "metadata": {},
   "outputs": [
    {
     "name": "stdout",
     "output_type": "stream",
     "text": [
      "Nonce :\n",
      " 0006a5a211c4011b94efdc1372299d5f78fb8327ab52e09d8c4c44403b2aa6b0 \n",
      "sequence :\n",
      " 12:48 am\n",
      "Alice 10 dollars Bob\n",
      "Bob 5 dollars Joseph\n",
      "Joseph 2 dollars Abbas Mustafa 3508\n",
      "\n"
     ]
    }
   ],
   "source": [
    "for i in range(0,999999):\n",
    "        nonce = sha256(test.encode('utf-8')).hexdigest()\n",
    "        if nonce[:3]==\"000\":\n",
    "                print(f\"Nonce :\\n {nonce} \\nsequence :\\n {test}\\n\")\n",
    "                break\n",
    "        test = sequence + str(i)"
   ]
  },
  {
   "cell_type": "code",
   "execution_count": 39,
   "metadata": {},
   "outputs": [],
   "source": [
    "for i in range(0,999999999):\n",
    "        nonce = sha256(test.encode('utf-8')).hexdigest()\n",
    "        if nonce[:7]==\"0000000\":\n",
    "                print(f\"Nonce :\\n {nonce} \\nsequence :\\n {test}\\n\")\n",
    "        test = str(i) + '\\n' + sequence"
   ]
  },
  {
   "cell_type": "code",
   "execution_count": null,
   "metadata": {},
   "outputs": [],
   "source": []
  }
 ],
 "metadata": {
  "kernelspec": {
   "display_name": "Uni",
   "language": "python",
   "name": "python3"
  },
  "language_info": {
   "codemirror_mode": {
    "name": "ipython",
    "version": 3
   },
   "file_extension": ".py",
   "mimetype": "text/x-python",
   "name": "python",
   "nbconvert_exporter": "python",
   "pygments_lexer": "ipython3",
   "version": "3.9.17"
  },
  "orig_nbformat": 4
 },
 "nbformat": 4,
 "nbformat_minor": 2
}
